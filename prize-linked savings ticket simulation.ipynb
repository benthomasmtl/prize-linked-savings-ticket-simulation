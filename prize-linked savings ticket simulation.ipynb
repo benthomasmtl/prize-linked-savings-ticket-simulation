{
 "cells": [
  {
   "cell_type": "markdown",
   "id": "8633fd49",
   "metadata": {},
   "source": [
    "# Prize-linked savings ticket simulation overview\n",
    "\n",
    "This notebook simulates a prize-linked savings scenario, analyzing the distribution of matches and the odds of winning a prize.\n",
    "\n",
    "**How to use this notebook:**\n",
    "- Use the interactive controls below to set the number of users, mean and standard deviation of tickets per user, and the maximum ticket number.\n",
    "- Click the green \"Save & Run Full Simulation\" button to run the simulation.\n",
    "- The simulation will generate a random winning ticket and simulate ticket purchases for all users.\n",
    "- The results include:\n",
    "    - A bar chart showing the distribution of ticket matches.\n",
    "    - A summary table of ticket match counts.\n",
    "    - Summary statistics for ticket counts.\n"
   ]
  },
  {
   "cell_type": "code",
   "execution_count": 1,
   "id": "652b68b2",
   "metadata": {},
   "outputs": [],
   "source": [
    "import ipywidgets as widgets\n",
    "from IPython.display import display, clear_output\n",
    "import matplotlib.pyplot as plt\n",
    "import numpy as np\n",
    "import pandas as pd\n",
    "import random\n",
    "\n",
    "def pick_ticket(ticket_size, min_ticket=0, max_ticket=99):\n",
    "    return random.sample(range(min_ticket, max_ticket + 1), ticket_size)\n",
    "\n",
    "def generate_num(u, sd):\n",
    "    return max(0, int(random.gauss(u, sd)))\n",
    "\n",
    "def count_matches(ticket, winning_ticket):\n",
    "    return len(set(ticket) & set(winning_ticket))\n",
    "\n",
    "def run_simulation(num_users, ticket_mean, ticket_sd, ticket_size, max_ticket):\n",
    "    winning_ticket = pick_ticket(ticket_size, 0, max_ticket)\n",
    "    user_ticket_dict = {\n",
    "        str(i): [pick_ticket(ticket_size, 0, max_ticket) for _ in range(min(generate_num(ticket_mean, ticket_sd), 50))] for i in range(num_users)\n",
    "    }\n",
    "    match_counts = {}\n",
    "    for tickets in user_ticket_dict.values():\n",
    "        for ticket in tickets:\n",
    "            matches = count_matches(ticket, winning_ticket)\n",
    "            match_counts[matches] = match_counts.get(matches, 0) + 1\n",
    "    return match_counts\n",
    "\n",
    "def plot_match_summary(match_counts, ticket_size):\n",
    "    import matplotlib.ticker as mticker\n",
    "    matches = list(range(ticket_size+1))\n",
    "    ticket_counts = [match_counts.get(m, 0) for m in matches]\n",
    "    fig, ax = plt.subplots(figsize=(8, 5))\n",
    "    bars = ax.bar(matches, ticket_counts, color=plt.cm.viridis(np.linspace(0.3, 0.9, len(matches))), edgecolor='black', alpha=0.85)\n",
    "    ax.set_xlabel('Number of Matches per Ticket', fontsize=14)\n",
    "    ax.set_ylabel('Number of Tickets', fontsize=14)\n",
    "    ax.set_title('Prize-linked Savings Match Distribution', fontsize=16, fontweight='bold')\n",
    "    ax.set_xticks(matches)\n",
    "    ax.grid(axis='y', linestyle='--', alpha=0.7)\n",
    "    # Add annotation and increase y-axis top margin for clarity\n",
    "    y_max = max(ticket_counts) * 1.15 if ticket_counts else 1\n",
    "    ax.set_ylim(0, y_max)\n",
    "    # Format y-axis with comma separators\n",
    "    ax.yaxis.set_major_formatter(mticker.FuncFormatter(lambda x, _: f'{int(x):,}' if x == int(x) else f'{x:,.0f}'))\n",
    "    for bar in bars:\n",
    "        height = bar.get_height()\n",
    "        if height > 0:\n",
    "            ax.annotate(f'{int(height):,}',\n",
    "                        xy=(bar.get_x() + bar.get_width() / 2, height),\n",
    "                        xytext=(0, 3),\n",
    "                        textcoords=\"offset points\",\n",
    "                        ha='center', va='bottom', fontsize=10, color='black')\n",
    "    plt.tight_layout()\n",
    "    plt.show()"
   ]
  },
  {
   "cell_type": "markdown",
   "id": "f4d947fe",
   "metadata": {},
   "source": [
    "## Interactive Simulation Controls\n",
    "Use the sliders and dropdowns below to adjust simulation parameters and see the results update live."
   ]
  },
  {
   "cell_type": "code",
   "execution_count": null,
   "id": "738dc167",
   "metadata": {},
   "outputs": [
    {
     "data": {
      "application/vnd.jupyter.widget-view+json": {
       "model_id": "855dc25b191d4822904f07b5b5874be7",
       "version_major": 2,
       "version_minor": 0
      },
      "text/plain": [
       "VBox(children=(BoundedIntText(value=10000, description='Number of Users:', layout=Layout(width='350px'), max=1…"
      ]
     },
     "metadata": {},
     "output_type": "display_data"
    }
   ],
   "source": [
    "# Interactive controls for simulation (simplified, no 'matches to find')\n",
    "from IPython.display import display, clear_output\n",
    "import ipywidgets as widgets\n",
    "\n",
    "num_users_widget = widgets.BoundedIntText(value=10000, min=100, max=1000000, step=100, description='Number of Users:', style={'description_width': '220px'}, layout=widgets.Layout(width='350px'))\n",
    "ticket_mean_widget = widgets.BoundedIntText(value=25, min=1, max=100, step=1, description='Mean Tickets per User:', style={'description_width': '220px'}, layout=widgets.Layout(width='350px'))\n",
    "ticket_sd_widget = widgets.BoundedFloatText(value=1, min=0, max=25, step=0.1, description='Tickets per User SD:', style={'description_width': '220px'}, layout=widgets.Layout(width='350px'))\n",
    "max_ticket_widget = widgets.BoundedIntText(value=99, min=10, max=999, step=1, description='Max Ticket Number (0 to N):', style={'description_width': '220px'}, layout=widgets.Layout(width='350px'))\n",
    "\n",
    "run_button = widgets.Button(description='Save & Run Full Simulation', button_style='success', layout=widgets.Layout(width='350px'))\n",
    "output = widgets.Output()\n",
    "\n",
    "def format_number(val):\n",
    "    if isinstance(val, float):\n",
    "        if val.is_integer():\n",
    "            return f'{int(val):,}'\n",
    "        else:\n",
    "            return f'{val:,.5f}'.rstrip('0').rstrip('.')\n",
    "    elif isinstance(val, int):\n",
    "        return f'{val:,}'\n",
    "    else:\n",
    "        return str(val)\n",
    "\n",
    "def on_run_button_clicked(b):\n",
    "    with output:\n",
    "        clear_output()\n",
    "        num_users = num_users_widget.value\n",
    "        ticket_mean = ticket_mean_widget.value\n",
    "        ticket_sd = ticket_sd_widget.value\n",
    "        max_ticket = max_ticket_widget.value\n",
    "        ticket_size = 7  # fixed ticket size\n",
    "        print(f\"Running simulation with: {format_number(num_users)} users, mean {format_number(ticket_mean)}, SD {format_number(ticket_sd)}, max ticket {format_number(max_ticket)}\")\n",
    "        match_counts = run_simulation(num_users, ticket_mean, ticket_sd, ticket_size, max_ticket)\n",
    "        plot_match_summary(match_counts, ticket_size)\n",
    "        data = {\n",
    "            'Number of Matches': list(match_counts.keys()),\n",
    "            'Ticket Count': list(match_counts.values())\n",
    "        }\n",
    "        match_df = pd.DataFrame(data).sort_values('Number of Matches').reset_index(drop=True)\n",
    "        # Format numbers in the table\n",
    "        match_df['Number of Matches'] = match_df['Number of Matches'].apply(format_number)\n",
    "        match_df['Ticket Count'] = match_df['Ticket Count'].apply(format_number)\n",
    "        print('Ticket Match Summary Table:')\n",
    "        display(match_df)\n",
    "        print('\\nSummary statistics for ticket counts:')\n",
    "        # Explanation for each statistic\n",
    "        stat_explanations = {\n",
    "            'count': 'Number of different match categories (bars in the chart).',\n",
    "            'mean': 'Average number of tickets per match category.',\n",
    "            'std': 'Standard deviation (spread) of ticket counts across match categories.',\n",
    "            'min': 'Smallest ticket count in any match category.',\n",
    "            '25%': '25th percentile (lower quartile) of ticket counts.',\n",
    "            '50%': 'Median (middle value) of ticket counts.',\n",
    "            '75%': '75th percentile (upper quartile) of ticket counts.',\n",
    "            'max': 'Largest ticket count in any match category.'\n",
    "        }\n",
    "        desc = match_df['Ticket Count'].map(lambda x: int(x.replace(',', ''))).astype(int).describe()\n",
    "        for stat, val in desc.items():\n",
    "            explanation = stat_explanations.get(stat, '')\n",
    "            print(f\"{stat}: {format_number(val)}\" + (f\"  # {explanation}\" if explanation else ''))\n",
    "\n",
    "run_button.on_click(on_run_button_clicked)\n",
    "display(widgets.VBox([num_users_widget, ticket_mean_widget, ticket_sd_widget, max_ticket_widget, run_button, output]))"
   ]
  },
  {
   "cell_type": "code",
   "execution_count": 3,
   "id": "772da97f",
   "metadata": {},
   "outputs": [],
   "source": [
    "# use Python 3.13.5 as kernal"
   ]
  },
  {
   "cell_type": "code",
   "execution_count": 4,
   "id": "341b3390",
   "metadata": {},
   "outputs": [],
   "source": [
    "def generate_num(u, sd):\n",
    "    # Generate a random integer, sampled from a normal distribution\n",
    "    # with mean `u` and standard deviation `sd`\n",
    "    import random\n",
    "    return max(0, int(random.gauss(u, sd)))"
   ]
  },
  {
   "cell_type": "code",
   "execution_count": 5,
   "id": "f13febd1",
   "metadata": {},
   "outputs": [],
   "source": [
    "def count_matches(ticket, winning_ticket):\n",
    "    # Count how many numbers in the ticket match the winning ticket\n",
    "    return len(set(ticket) & set(winning_ticket))"
   ]
  }
 ],
 "metadata": {
  "kernelspec": {
   "display_name": "venv",
   "language": "python",
   "name": "python3"
  },
  "language_info": {
   "codemirror_mode": {
    "name": "ipython",
    "version": 3
   },
   "file_extension": ".py",
   "mimetype": "text/x-python",
   "name": "python",
   "nbconvert_exporter": "python",
   "pygments_lexer": "ipython3",
   "version": "3.13.5"
  }
 },
 "nbformat": 4,
 "nbformat_minor": 5
}
